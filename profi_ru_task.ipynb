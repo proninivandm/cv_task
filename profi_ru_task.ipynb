{
  "nbformat": 4,
  "nbformat_minor": 0,
  "metadata": {
    "colab": {
      "name": "profi_ru_task.ipynb",
      "provenance": [],
      "collapsed_sections": [],
      "authorship_tag": "ABX9TyN8wLSNeeBXlj7amKbZVsE6",
      "include_colab_link": true
    },
    "kernelspec": {
      "name": "python3",
      "display_name": "Python 3"
    }
  },
  "cells": [
    {
      "cell_type": "markdown",
      "metadata": {
        "id": "view-in-github",
        "colab_type": "text"
      },
      "source": [
        "<a href=\"https://colab.research.google.com/github/proninivandm/tasks/blob/main/profi_ru_task.ipynb\" target=\"_parent\"><img src=\"https://colab.research.google.com/assets/colab-badge.svg\" alt=\"Open In Colab\"/></a>"
      ]
    },
    {
      "cell_type": "code",
      "metadata": {
        "id": "pRuACk8Z0Ws4"
      },
      "source": [
        "import numpy as np\n",
        "from scipy.stats import t\n",
        "import matplotlib.pyplot as plt"
      ],
      "execution_count": 24,
      "outputs": []
    },
    {
      "cell_type": "code",
      "metadata": {
        "id": "Sk2itaNQbar5"
      },
      "source": [
        "def plot_res():\n",
        "  fig, ax = plt.subplots(figsize = (15, 9))\n",
        "  ax.clear()\n",
        "  x = np.linspace(-5, 5, 500)\n",
        "  ax.plot(x, t.pdf(x, df=N-1))\n",
        "  ax.vlines(interval, 0, 0.4, color='g', lw=2 )\n",
        "  x_le_T, x_ge_T = x[x<=interval[0]], x[x>=interval[1]]\n",
        "  ax.fill_between(x_le_T, t.pdf(x_le_T, N-1), np.zeros(len(x_le_T)), alpha=0.3, color='b' )\n",
        "  ax.fill_between(x_ge_T, t.pdf(x_ge_T, N-1), np.zeros(len(x_ge_T)), alpha=0.3, color='b')"
      ],
      "execution_count": 25,
      "outputs": []
    },
    {
      "cell_type": "code",
      "metadata": {
        "id": "GH2QJ-XogAB5"
      },
      "source": [
        "def plot_res2():\n",
        "  fig, ax = plt.subplots(figsize = (15, 9))\n",
        "  ax.clear()\n",
        "  x = np.linspace(interval[0]-0.01, interval[0]+0.01, 500)\n",
        "  ax.plot(x, t.pdf(x, df=N-1))\n",
        "  ax.vlines(interval[0], 0, 0.1, color='g', lw=2 )\n",
        "  ax.vlines(t_val(N), 0, 0.1, color='r', lw=2 )\n",
        "  x_le_T, x_ge_T = x[x<interval[0]], x[x>interval[1]]\n",
        "  ax.fill_between(x_le_T, t.pdf(x_le_T, N-1), np.zeros(len(x_le_T)), alpha=0.3, color='b' )\n",
        "  ax.fill_between(x_ge_T, t.pdf(x_ge_T, N-1), np.zeros(len(x_ge_T)), alpha=0.3, color='b')"
      ],
      "execution_count": 26,
      "outputs": []
    },
    {
      "cell_type": "markdown",
      "metadata": {
        "id": "ij1xObVdS8FN"
      },
      "source": [
        "\"Можем сказать\" понятие неоднозначное, поэтому для такой задачи необходимо задаться уровнем значимости, то есть числом, которое определяет вероятность ошибки 1 рода (когда говорим, что монета \"нечестная\", а она на самом деле честная)."
      ]
    },
    {
      "cell_type": "code",
      "metadata": {
        "colab": {
          "base_uri": "https://localhost:8080/"
        },
        "id": "3gtUTv-gK67A",
        "outputId": "b23c85a6-307c-427f-ed9b-826f3e3eb616"
      },
      "source": [
        "print('Введите уровень значимости')\n",
        "alpha = float(input('alpha = '))"
      ],
      "execution_count": 27,
      "outputs": [
        {
          "output_type": "stream",
          "text": [
            "Введите уровень значимости\n",
            "alpha = 0.05\n"
          ],
          "name": "stdout"
        }
      ]
    },
    {
      "cell_type": "markdown",
      "metadata": {
        "id": "jT2CRTpHSbLD"
      },
      "source": [
        "Выпадений орлов на 10% больше, то есть: \"x + 1.1x = 1\"\n",
        "или \"x + (x+0.1) = 1\", не знаю что вы имели в виду.\n",
        "Отсюда"
      ]
    },
    {
      "cell_type": "code",
      "metadata": {
        "id": "QsxmTFxYLNnd"
      },
      "source": [
        "p_orl = 11/21\n",
        "p_resh = 10/21"
      ],
      "execution_count": 5,
      "outputs": []
    },
    {
      "cell_type": "markdown",
      "metadata": {
        "id": "pneEj_QYhsZ1"
      },
      "source": [
        "или"
      ]
    },
    {
      "cell_type": "code",
      "metadata": {
        "id": "-qo1lKYtht__"
      },
      "source": [
        "p_orl = 11/20\n",
        "p_resh = 9/20"
      ],
      "execution_count": 28,
      "outputs": []
    },
    {
      "cell_type": "markdown",
      "metadata": {
        "id": "kHMBVEIIUq5-"
      },
      "source": [
        "Пусть выпадение орла эквивалентно выпадению числа 0, решка - соответственно 1. Бернулли.\n",
        "\n",
        "Тогда можем посчитать матожидание нашей монетки, ее выборочную дисперсию, найти значение t-статистики и построить доверительный интервал, который будет зависеть от уровня значимости и числа наблюдений.\n",
        "\n",
        "Статистика есть, в начале зафиксировали уровень значимости, теперь можем найти минимальное количество испытаний, при котором t-value попадет в критическую область (область, в которой отвергается нулевая гипотеза о том, что монета честная). Эта область двусторонняя (может быть перевес как в сторону решки, так и в сторону орла).\n",
        "\n",
        "При увеличении числа испытаний наша уверенность в истинности принятого решения будет только увеличиваться, поэтому ответ - это любое число N, большее N_min"
      ]
    },
    {
      "cell_type": "code",
      "metadata": {
        "id": "qGQW3bNGQ6SQ"
      },
      "source": [
        "E_x = p_resh"
      ],
      "execution_count": 29,
      "outputs": []
    },
    {
      "cell_type": "code",
      "metadata": {
        "id": "OcwB53gMXHwf"
      },
      "source": [
        "def t_val(n):\n",
        "  return (E_x-0.5)/np.sqrt(p_resh*p_orl/(n-1))"
      ],
      "execution_count": 30,
      "outputs": []
    },
    {
      "cell_type": "markdown",
      "metadata": {
        "id": "VykgAnjvZ_LL"
      },
      "source": [
        "Пойдем снизу вверх - будем увеличивать N пока наше t-value не попадет в критическую область. N-1 в функции t-статистики - это число степеней свободы."
      ]
    },
    {
      "cell_type": "code",
      "metadata": {
        "colab": {
          "base_uri": "https://localhost:8080/"
        },
        "id": "_TZ6y8pFZnx4",
        "outputId": "2e9314dd-ab31-43e3-f15d-3be8f1d05dad"
      },
      "source": [
        "N=2\n",
        "while(t.interval(1-alpha, N-1)[0]<=t_val(N)<=t.interval(1-alpha, N-1)[1]):\n",
        "  N+=1\n",
        "interval = t.interval(1-alpha, N-1)\n",
        "print(f'Минимальное число наблюдений, при котором можем сказать, что монета нечестная: {N}')\n",
        "print(f'При этом доверительный интервал {interval}, а значение статистики {t_val(N)}')"
      ],
      "execution_count": 31,
      "outputs": [
        {
          "output_type": "stream",
          "text": [
            "Минимальное число наблюдений, при котором можем сказать, что монета нечестная: 384\n",
            "При этом доверительный интервал (-1.9661771911464996, 1.9661771911464996), а значение статистики -1.9668977778946384\n"
          ],
          "name": "stdout"
        }
      ]
    },
    {
      "cell_type": "code",
      "metadata": {
        "colab": {
          "base_uri": "https://localhost:8080/",
          "height": 537
        },
        "id": "FWVh0k0pdl4c",
        "outputId": "55965265-8f44-4077-c9d2-0820c4c136b5"
      },
      "source": [
        "plot_res()"
      ],
      "execution_count": 32,
      "outputs": [
        {
          "output_type": "display_data",
          "data": {
            "image/png": "[encoded data removed]",
            "text/plain": [
              "<Figure size 1080x648 with 1 Axes>"
            ]
          },
          "metadata": {
            "tags": [],
            "needs_background": "light"
          }
        }
      ]
    },
    {
      "cell_type": "code",
      "metadata": {
        "colab": {
          "base_uri": "https://localhost:8080/",
          "height": 537
        },
        "id": "1Z73Tdmif0jv",
        "outputId": "b65447c8-0a0a-49c0-9941-d3c1ee223994"
      },
      "source": [
        "plot_res2()"
      ],
      "execution_count": 33,
      "outputs": [
        {
          "output_type": "display_data",
          "data": {
            "image/png": "[encoded data removed]",
            "text/plain": [
              "<Figure size 1080x648 with 1 Axes>"
            ]
          },
          "metadata": {
            "tags": [],
            "needs_background": "light"
          }
        }
      ]
    },
    {
      "cell_type": "code",
      "metadata": {
        "id": "auTVOsQ2gQH2"
      },
      "source": [
        ""
      ],
      "execution_count": null,
      "outputs": []
    }
  ]
}